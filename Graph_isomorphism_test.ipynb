{
  "cells": [
    {
      "cell_type": "code",
      "execution_count": null,
      "metadata": {
        "id": "vobWJkMZlhdD"
      },
      "outputs": [],
      "source": [
        "import networkx as nx\n",
        "from helper import *\n",
        "from collections import deque\n",
        "import time"
      ]
    },
    {
      "cell_type": "code",
      "execution_count": null,
      "metadata": {
        "id": "sjnCEEVtm00j"
      },
      "outputs": [],
      "source": [
        "N = 7\n",
        "p = 0.1\n",
        "nodes_amplification = 3\n",
        "G = nx.gnp_random_graph(N, p, directed=True)"
      ]
    },
    {
      "cell_type": "code",
      "execution_count": null,
      "metadata": {},
      "outputs": [],
      "source": [
        "VG = gen_voltage_digraph(G, \"succ\", [2,2,3,2,2,3,2])"
      ]
    },
    {
      "cell_type": "code",
      "execution_count": null,
      "metadata": {},
      "outputs": [],
      "source": [
        "def labeled_cc_partition_refinement(N, rev_als):\n",
        "    pi = [0] * N #equivalence\n",
        "    C = [list(range(N))] #list of equivalence classes\n",
        "    p = [0] #stack with the indices of the classes to evaluate\n",
        "    its = 0\n",
        "\n",
        "    while p:\n",
        "        its += 1\n",
        "        S = {} #sequences associated with each vertex, representing the class indices of its successor in significant class\n",
        "        #L = []\n",
        "\n",
        "        minr = N+1\n",
        "        maxr = 0\n",
        "        #We populate S\n",
        "        while p: #there are remaining indices in p\n",
        "            r = p.pop() #current class to evaluate\n",
        "            minr = min(minr, r)\n",
        "            maxr = max(maxr, r)\n",
        "\n",
        "            for j in range(len(rev_als)):\n",
        "                rev_al = rev_als[j]\n",
        "                for v in C[r]:\n",
        "                    for w in rev_al[v]:\n",
        "                        if w not in S:\n",
        "                            S[w] = []\n",
        "                            #L.append(w)\n",
        "                        S[w].append(r)\n",
        "\n",
        "        LC = list(set([pi[v] for v in S.keys()])) #S.keys() is essentially L\n",
        "\n",
        "        ni = {}\n",
        "        for i in LC:\n",
        "            ni[i] = 0\n",
        "            for v in C[i]:\n",
        "                if v in S:\n",
        "                    ni[i] += 1\n",
        "\n",
        "        k = max([len(S[v]) for v in S.keys()])\n",
        "        m = maxr - minr + 2 #ex. 0-5 -> void + [0,1,2,3,4,5] (7 classes)\n",
        "        elements = deque(S.items())\n",
        "        Q = [[] for _ in range(m)]\n",
        "        for j in range(k,0,-1):\n",
        "            while elements:\n",
        "                A = elements.popleft()\n",
        "                if len(A[1]) < j:\n",
        "                    Q[0].append(A)\n",
        "                else:\n",
        "                    Q[A[1][j-1]-minr+1].append(A)\n",
        "            for l in range(m):\n",
        "                while Q[l]:\n",
        "                    elements.extend(Q[l])\n",
        "                    Q[l] = []\n",
        "        S_sorted = list(elements)\n",
        "        #S_sorted = sorted(S.items(), key=lambda item: item[1]) #SORT(L, S) with L = S.keys()\n",
        "        L = [e[0] for e in S_sorted]\n",
        "\n",
        "        T = {}\n",
        "        R = {k: [] for k in LC}\n",
        "\n",
        "        #We split equivalence class according to S\n",
        "        while L:\n",
        "            v = L.pop()\n",
        "            i = pi[v]\n",
        "            if ni[i] != 0: #True iff it's the first time we see class i\n",
        "                T[i] = S[v]\n",
        "                R[i].append(i)\n",
        "                if ni[i] != len(C[i]): #Some vertices in C[i] have successors in non-significant class (the biggest, since index was not in p), so we need to split and add a new class\n",
        "                    R[i].append(len(C))\n",
        "                    C.append([])\n",
        "                ni[i] = 0\n",
        "            if T[i] != S[v]: #Every time we see a different sequence, we need further splitting\n",
        "                T[i] = S[v]\n",
        "                R[i].append(len(C))\n",
        "                C.append([])\n",
        "            S[v] = []\n",
        "\n",
        "            #Move v to the new class (if created)\n",
        "            r = R[i][-1]\n",
        "            C[i].remove(v) #Seems inefficient. Not bad as it seems\n",
        "            C[r].append(v)\n",
        "            pi[v] = r\n",
        "\n",
        "\n",
        "        #put classes in p for next round\n",
        "        while LC:\n",
        "            i = LC.pop()\n",
        "\n",
        "            #significant classes are all except i\n",
        "            for j in R[i]:\n",
        "                if j != i:\n",
        "                    p.append(j)\n",
        "\n",
        "            #find the biggest subclass r and we exchange it with i if necessary\n",
        "            r = R[i].pop()\n",
        "            while R[i]:\n",
        "                j = R[i].pop()\n",
        "                if len(C[j])>len(C[r]):\n",
        "                    r = j\n",
        "            if r != i:\n",
        "                for v in C[i]:\n",
        "                    pi[v] = r\n",
        "                for v in C[r]:\n",
        "                    pi[v] = i\n",
        "                C[i], C[r] = C[r], C[i]\n",
        "    return pi, its"
      ]
    },
    {
      "cell_type": "code",
      "execution_count": null,
      "metadata": {},
      "outputs": [],
      "source": [
        "def cc_partition_refinement(G, eq_type=\"succ\"):\n",
        "    if isinstance(G, nx.DiGraph):\n",
        "        if eq_type == \"succ\":\n",
        "            rev_als = [gen_adj_list(G, reverse=True)]\n",
        "        elif eq_type == \"pred\":\n",
        "            rev_als = [gen_adj_list(G)]\n",
        "        elif eq_type == \"complete\":\n",
        "            rev_als = [gen_adj_list(G), gen_adj_list(G, reverse=True)]\n",
        "        else:\n",
        "            raise ValueError(\"eq_type must be either succ, pred or complete\")\n",
        "    elif isinstance(G, nx.Graph):\n",
        "        rev_als = [gen_neighbourhood(G)]\n",
        "    else:\n",
        "        raise ValueError(\"Graph must be either DiGraph or Graph\")\n",
        "    return labeled_cc_partition_refinement(G.number_of_nodes(), rev_als)"
      ]
    },
    {
      "cell_type": "code",
      "execution_count": null,
      "metadata": {},
      "outputs": [],
      "source": [
        "VGs = gen_uniform_voltage_digraph(G, \"succ\", 3)\n",
        "VGp = gen_uniform_voltage_digraph(G, \"pred\", 3)\n",
        "VGstr = gen_strong_voltage_digraph(G, 3)"
      ]
    },
    {
      "cell_type": "code",
      "execution_count": null,
      "metadata": {},
      "outputs": [],
      "source": [
        "cc_partition_refinement(G)"
      ]
    },
    {
      "cell_type": "code",
      "execution_count": null,
      "metadata": {},
      "outputs": [],
      "source": [
        "(cc_partition_refinement(VGs),\n",
        "cc_partition_refinement(VGs, eq_type=\"pred\"),\n",
        "labeled_cc_partition_refinement(VGs, [gen_adj_list(VGs, reverse=True), gen_adj_list(VGs, reverse=False)]))"
      ]
    },
    {
      "cell_type": "code",
      "execution_count": null,
      "metadata": {},
      "outputs": [],
      "source": [
        "(cc_partition_refinement(VGp),\n",
        "cc_partition_refinement(VGp, eq_type=\"pred\"),\n",
        "labeled_cc_partition_refinement(VGp, [gen_adj_list(VGp, reverse=True), gen_adj_list(VGp, reverse=False)]))"
      ]
    },
    {
      "cell_type": "code",
      "execution_count": null,
      "metadata": {},
      "outputs": [],
      "source": [
        "(cc_partition_refinement(VGstr),\n",
        "cc_partition_refinement(VGstr, eq_type=\"pred\"),\n",
        "labeled_cc_partition_refinement(VGstr, [gen_adj_list(VGstr, reverse=True), gen_adj_list(VGstr, reverse=False)]))"
      ]
    },
    {
      "cell_type": "code",
      "execution_count": null,
      "metadata": {},
      "outputs": [],
      "source": [
        "def could_be_isomorphic_cc(G0, G1):\n",
        "    G = combine_graphs(G0, G1)\n",
        "    pi = cc_partition_refinement(G)\n",
        "    G0_certificate = sorted(pi[:G0.number_of_nodes()])\n",
        "    G1_certificate = sorted(pi[G0.number_of_nodes():])\n",
        "    return G0_certificate == G1_certificate"
      ]
    },
    {
      "cell_type": "code",
      "execution_count": null,
      "metadata": {},
      "outputs": [],
      "source": [
        "def could_be_isomorphic_wl(G0, G1):\n",
        "    return nx.weisfeiler_lehman_graph_hash(G0) == nx.weisfeiler_lehman_graph_hash(G1)"
      ]
    },
    {
      "cell_type": "code",
      "execution_count": null,
      "metadata": {},
      "outputs": [],
      "source": [
        "def color_refinement(G):\n",
        "    labels = {}\n",
        "    glabels = {}\n",
        "    for i in range(G.number_of_nodes()):\n",
        "        glabels[i] = 0\n",
        "    glabelsCount = 1\n",
        "    newlabel = 1\n",
        "\n",
        "    done = False\n",
        "    while not done:\n",
        "        glabelsNew = {}\n",
        "        glabelsCountNew = 0\n",
        "        for node in G.nodes():\n",
        "            label = str(glabels[node])\n",
        "            s2 = []\n",
        "            for neighbor in G[node]:\n",
        "                s2.append(glabels[neighbor])\n",
        "            s2.sort()\n",
        "            for i in range(len(s2)):\n",
        "                label += \"_\" + str(s2[i])\n",
        "            if not (label in labels):\n",
        "                labels[label] = newlabel\n",
        "                newlabel += 1\n",
        "                glabelsCountNew += 1\n",
        "            glabelsNew[node] = labels[label]\n",
        "        if glabelsCount == glabelsCountNew:\n",
        "            done = True\n",
        "        else:\n",
        "            glabelsCount = glabelsCountNew\n",
        "            glabels = glabelsNew.copy()\n",
        "    return glabels"
      ]
    },
    {
      "cell_type": "code",
      "execution_count": null,
      "metadata": {},
      "outputs": [],
      "source": [
        "G = nx.gnp_random_graph(10, 0.5)\n",
        "VG = gen_voltage_graph(G, 3)\n",
        "VG2 = gen_voltage_graph(G, 3)\n",
        "G2 = nx.gnp_random_graph(10, 0.5)\n",
        "VG3 = gen_voltage_graph(G2, 3)"
      ]
    },
    {
      "cell_type": "code",
      "execution_count": null,
      "metadata": {},
      "outputs": [],
      "source": [
        "could_be_isomorphic_cc(VG, VG2), could_be_isomorphic_wl(VG, VG2)"
      ]
    },
    {
      "cell_type": "code",
      "execution_count": null,
      "metadata": {},
      "outputs": [],
      "source": [
        "could_be_isomorphic_cc(VG, VG), could_be_isomorphic_wl(VG, VG)"
      ]
    },
    {
      "cell_type": "code",
      "execution_count": null,
      "metadata": {},
      "outputs": [],
      "source": [
        "could_be_isomorphic_cc(VG, VG3), could_be_isomorphic_wl(VG, VG3)"
      ]
    },
    {
      "cell_type": "code",
      "execution_count": null,
      "metadata": {},
      "outputs": [],
      "source": [
        "nodes = [20, 50, 100, 200, 500, 1000, 2000, 5000, 10000, 20000, 50000] #, 100000, 200000\n",
        "density = 0.4 #Could try with 1/sqrt(n)\n",
        "replicas = 5"
      ]
    },
    {
      "cell_type": "code",
      "execution_count": null,
      "metadata": {},
      "outputs": [],
      "source": [
        "records = {}\n",
        "for n in nodes:\n",
        "    print(\"Nodes: \", n)\n",
        "    print(\"Generating graph\", end=\"\")\n",
        "    t1  = time.time()\n",
        "    G = nx.gnp_random_graph(n, density)\n",
        "    t2 = time.time()\n",
        "    print(\" - generated in \", t2-t1)\n",
        "    print(\"Generating voltage graph\", end=\"\")\n",
        "    t1 = time.time()\n",
        "    VG = gen_voltage_graph(G, replicas)\n",
        "    t2 = time.time()\n",
        "    print(\" - generated in \", t2-t1)\n",
        "\n",
        "    results = []\n",
        "\n",
        "    print(\"Executing CC\", end=\"\")\n",
        "    rev_als = [gen_neighbourhood(G)]\n",
        "    t1 = time.time()\n",
        "    (_, its) = labeled_cc_partition_refinement(G.number_of_nodes(), rev_als)\n",
        "    t2 = time.time()\n",
        "    print(\" - done in \", t2-t1)\n",
        "    results.append(t2-t1)\n",
        "\n",
        "    print(\"Executing WL...\", end=\"\")\n",
        "    t1 = time.time()\n",
        "    nx.weisfeiler_lehman_graph_hash(VG, iterations=its)\n",
        "    t2 = time.time()\n",
        "    print(\" - done in \", t2-t1)\n",
        "    results.append(t2-t1)\n",
        "\n",
        "    print(\"Executing color refinement...\", end=\"\")\n",
        "    t1 = time.time()\n",
        "    color_refinement(VG)\n",
        "    t2 = time.time()\n",
        "    print(\" - done in \", t2-t1)\n",
        "    results.append(t2-t1)\n",
        "\n",
        "    records[n] = results\n",
        "    print(results)\n",
        "    print()"
      ]
    }
  ],
  "metadata": {
    "colab": {
      "provenance": []
    },
    "kernelspec": {
      "display_name": "Articolo Boldi",
      "language": "python",
      "name": "python3"
    },
    "language_info": {
      "codemirror_mode": {
        "name": "ipython",
        "version": 3
      },
      "file_extension": ".py",
      "mimetype": "text/x-python",
      "name": "python",
      "nbconvert_exporter": "python",
      "pygments_lexer": "ipython3",
      "version": "3.13.2"
    }
  },
  "nbformat": 4,
  "nbformat_minor": 0
}
